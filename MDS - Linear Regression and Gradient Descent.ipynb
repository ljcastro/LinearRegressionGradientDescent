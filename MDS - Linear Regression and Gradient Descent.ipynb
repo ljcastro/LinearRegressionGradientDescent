{
 "cells": [
  {
   "cell_type": "markdown",
   "metadata": {},
   "source": [
    "## Linear Regression with Gradient Descent\n",
    "\n",
    "\n",
    "**Step 1:** Take the derivative of the **Loss Function** for each parameter in it. In fancy Machine Learning Lingo, take the **Gradient** of the **Loss Function**\n",
    "\n",
    "**Step 2:** Pick random values for the parameters.\n",
    "\n",
    "**Step 3:** Plug the parameter values into the derivatives (**Gradient**).\n",
    "\n",
    "**Step 4:** Calculate the Step Sizes: **Step Size = Slope x Learning Rate**\n",
    "\n",
    "**Step 5:** Calculate the New Parameters: **New Parameter = Old Parameter - Step Size\n",
    "\n",
    "\n",
    "Now go back to **Step 3** and repeat until **Step Size** is very small, or you reach the **Maximum Number of Steps**"
   ]
  },
  {
   "cell_type": "markdown",
   "metadata": {},
   "source": [
    "**Let $X$ be the independent variable and $Y$ be the dependent variable**\n",
    "**We will define a linear relationship between these two variables as follows:**\n",
    "\n",
    "$${Y} = {m}{X} + c$$\n",
    "\n",
    "$m$ is the *slope*\n",
    "$c$ is the *intercept*"
   ]
  },
  {
   "cell_type": "markdown",
   "metadata": {},
   "source": [
    "**Mean Squared Errors & Loss Function**\n",
    "\n",
    "$$E = \\frac{1}{n}\\sum\\limits_{i=0}^{n}({y_i} - \\bar{y_i})^2$$\n"
   ]
  },
  {
   "cell_type": "markdown",
   "metadata": {},
   "source": [
    "**Substituting the value of $\\bar{y_i}$**\n",
    "\n",
    "$$E = \\frac{1}{n}\\sum\\limits_{i=1}^{n}({y_i} - ({m}{x_i} + {c}))^2$$"
   ]
  },
  {
   "cell_type": "markdown",
   "metadata": {},
   "source": [
    "**Derivative with respect to $m$**\n",
    "\n",
    "$$D_m = \\frac{-2}{n}\\sum\\limits_{i=0}^{n}x_i(y_i - \\bar{y_i})$$"
   ]
  },
  {
   "cell_type": "markdown",
   "metadata": {},
   "source": [
    "**Derivative with respect to $c$**\n",
    "\n",
    "$$D_c = \\frac{-2}{n}\\sum\\limits_{i=0}^{n}({y_i} - \\bar{y_i})$$"
   ]
  },
  {
   "cell_type": "markdown",
   "metadata": {},
   "source": [
    "**Updating the current values of $m$ and $c$ using the learning rate**\n",
    "\n",
    "$${m} = {m} - {lr}\\times{D_m}$$\n",
    "\n",
    "$${c} = {c} - {lr}\\times{D_c}$$"
   ]
  },
  {
   "cell_type": "code",
   "execution_count": 59,
   "metadata": {
    "collapsed": true
   },
   "outputs": [],
   "source": [
    "import numpy as np\n",
    "import matplotlib.pyplot as plt"
   ]
  },
  {
   "cell_type": "code",
   "execution_count": 136,
   "metadata": {},
   "outputs": [],
   "source": [
    "X = np.linspace(0,25,100)\n",
    "Y = X * np.random.random_sample() + np.random.uniform(-10,10,X.size) + np.random.uniform(0,10,X.size)"
   ]
  },
  {
   "cell_type": "code",
   "execution_count": 137,
   "metadata": {},
   "outputs": [
    {
     "data": {
      "image/png": "[encoded data removed]",
      "text/plain": [
       "<matplotlib.figure.Figure at 0x1a154e1470>"
      ]
     },
     "metadata": {},
     "output_type": "display_data"
    }
   ],
   "source": [
    "plt.scatter(X,Y);\n",
    "plt.show();"
   ]
  },
  {
   "cell_type": "code",
   "execution_count": 142,
   "metadata": {
    "collapsed": true
   },
   "outputs": [],
   "source": [
    "grad = np.array([0.,0.])\n",
    "n = X.size\n",
    "lr = 0.001\n",
    "epochs = 1000"
   ]
  },
  {
   "cell_type": "code",
   "execution_count": 143,
   "metadata": {
    "collapsed": true
   },
   "outputs": [],
   "source": [
    "# Performing the Gradient Descent\n",
    "for i in range(n):\n",
    "    Y_pred = grad[0]*X + grad[1] # predecimos Y con los valores iniciales para m y c (0,1)\n",
    "    derivada_m = (-2/n) * sum(X * (Y - Y_pred)) # calculamos la derivadad con respecto a m\n",
    "    derivada_c = (-2/n) * sum(Y - Y_pred) # calculamos la derivada con respecto a c\n",
    "    grad[0] = grad[0] - (lr * derivada_m) # actualizamos el valor de m con la diferencia del inicial menos la derivada por el ratio de aprendizaje\n",
    "    grad[1] = grad[1] - (lr * derivada_c) # lo mismmo para el valod de c\n"
   ]
  },
  {
   "cell_type": "code",
   "execution_count": 144,
   "metadata": {
    "collapsed": true
   },
   "outputs": [],
   "source": [
    "# Predicting Y using the final gradients\n",
    "Y_pred = grad[0]*X + grad[1]"
   ]
  },
  {
   "cell_type": "code",
   "execution_count": 145,
   "metadata": {},
   "outputs": [
    {
     "data": {
      "image/png": "[encoded data removed]",
      "text/plain": [
       "<matplotlib.figure.Figure at 0x107645eb8>"
      ]
     },
     "metadata": {},
     "output_type": "display_data"
    }
   ],
   "source": [
    "plt.scatter(X,Y)\n",
    "plt.plot([min(X),max(X)],[min(Y_pred), max(Y_pred)], color='red')\n",
    "plt.show()"
   ]
  },
  {
   "cell_type": "markdown",
   "metadata": {
    "collapsed": true
   },
   "source": [
    "### Let's try to generate random data with sklearn"
   ]
  },
  {
   "cell_type": "code",
   "execution_count": 146,
   "metadata": {
    "collapsed": true
   },
   "outputs": [],
   "source": [
    "from sklearn.datasets import make_regression"
   ]
  },
  {
   "cell_type": "code",
   "execution_count": 147,
   "metadata": {
    "collapsed": true
   },
   "outputs": [],
   "source": [
    "X_2, Y_2 = make_regression(n_samples=150, n_features=1, noise=61.6, random_state=123)"
   ]
  },
  {
   "cell_type": "code",
   "execution_count": 148,
   "metadata": {
    "collapsed": true
   },
   "outputs": [],
   "source": [
    "X_2 = X_2.reshape(150)"
   ]
  },
  {
   "cell_type": "code",
   "execution_count": 149,
   "metadata": {},
   "outputs": [
    {
     "data": {
      "image/png": "[encoded data removed]",
      "text/plain": [
       "<matplotlib.figure.Figure at 0x107674d68>"
      ]
     },
     "metadata": {},
     "output_type": "display_data"
    }
   ],
   "source": [
    "plt.scatter(X_2,Y_2);\n",
    "plt.show()"
   ]
  },
  {
   "cell_type": "code",
   "execution_count": 150,
   "metadata": {
    "collapsed": true
   },
   "outputs": [],
   "source": [
    "grad = np.array([0.,0.])\n",
    "n = X_2.size\n",
    "lr = 0.01\n",
    "epochs = 1000"
   ]
  },
  {
   "cell_type": "code",
   "execution_count": 151,
   "metadata": {},
   "outputs": [],
   "source": [
    "# Performing the Gradient Descent\n",
    "for i in range(n):\n",
    "    Y_pred = grad[0]*X_2 + grad[1] # predecimos Y con los valores iniciales para m y c (0,1)\n",
    "    derivada_m = (-2/n) * sum(X_2 * (Y_2 - Y_pred)) # calculamos la derivadad con respecto a m\n",
    "    derivada_c = (-2/n) * sum(Y_2 - Y_pred) # calculamos la derivada con respecto a c\n",
    "    grad[0] = grad[0] - (lr * derivada_m) # actualizamos el valor de m con la diferencia del inicial menos la derivada por el ratio de aprendizaje\n",
    "    grad[1] = grad[1] - (lr * derivada_c) # lo mismmo para el valor de c\n"
   ]
  },
  {
   "cell_type": "code",
   "execution_count": 152,
   "metadata": {
    "collapsed": true
   },
   "outputs": [],
   "source": [
    "# Predicting Y using the final gradients\n",
    "Y_pred = grad[0]*X_2 + grad[1]"
   ]
  },
  {
   "cell_type": "code",
   "execution_count": 153,
   "metadata": {},
   "outputs": [
    {
     "data": {
      "image/png": "[encoded data removed]",
      "text/plain": [
       "<matplotlib.figure.Figure at 0x1a1585bb00>"
      ]
     },
     "metadata": {},
     "output_type": "display_data"
    }
   ],
   "source": [
    "plt.scatter(X_2,Y_2)\n",
    "plt.plot([min(X_2),max(X_2)],[min(Y_pred), max(Y_pred)], color='red')\n",
    "plt.show()"
   ]
  },
  {
   "cell_type": "code",
   "execution_count": null,
   "metadata": {
    "collapsed": true
   },
   "outputs": [],
   "source": []
  }
 ],
 "metadata": {
  "kernelspec": {
   "display_name": "Python 3",
   "language": "python",
   "name": "python3"
  },
  "language_info": {
   "codemirror_mode": {
    "name": "ipython",
    "version": 3
   },
   "file_extension": ".py",
   "mimetype": "text/x-python",
   "name": "python",
   "nbconvert_exporter": "python",
   "pygments_lexer": "ipython3",
   "version": "3.5.4"
  }
 },
 "nbformat": 4,
 "nbformat_minor": 2
}
